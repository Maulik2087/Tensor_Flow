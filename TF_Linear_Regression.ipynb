{
 "cells": [
  {
   "cell_type": "code",
   "execution_count": 5,
   "metadata": {},
   "outputs": [
    {
     "name": "stdout",
     "output_type": "stream",
     "text": [
      "(array([-0.9999969], dtype=float32), array([ 0.99999082], dtype=float32), 5.6999738e-11)\n"
     ]
    }
   ],
   "source": [
    "import tensorflow as tf\n",
    "import numpy as np\n",
    "\n",
    "W=tf.Variable([.3],dtype=tf.float32)\n",
    "b=tf.Variable([-.3],dtype=tf.float32)\n",
    "x=tf.placeholder(tf.float32)\n",
    "y=tf.placeholder(dtype=tf.float32)\n",
    "linear_model=W*x+b\n",
    "loss=tf.reduce_sum(tf.square(linear_model-y))\n",
    "optimizer=tf.train.GradientDescentOptimizer(0.01)\n",
    "train=optimizer.minimize(loss)\n",
    "\n",
    "x_train = np.array([1,2,3,4])\n",
    "y_train = np.array([0,-1,-2,-3])\n",
    "\n",
    "init=tf.global_variables_initializer()\n",
    "sess=tf.Session()\n",
    "sess.run(init)\n",
    "\n",
    "for i in range (1000):\n",
    "   sess.run(train,{x:x_train,y:y_train})\n",
    "\n",
    "w_curr,b_curr,loss_curr=sess.run([W,b,loss],{x:x_train,y:y_train})\n",
    "print(w_curr,b_curr,loss_curr)\n"
   ]
  }
 ],
 "metadata": {
  "kernelspec": {
   "display_name": "Python 2",
   "language": "python",
   "name": "python2"
  },
  "language_info": {
   "codemirror_mode": {
    "name": "ipython",
    "version": 2
   },
   "file_extension": ".py",
   "mimetype": "text/x-python",
   "name": "python",
   "nbconvert_exporter": "python",
   "pygments_lexer": "ipython2",
   "version": "2.7.13"
  }
 },
 "nbformat": 4,
 "nbformat_minor": 2
}
